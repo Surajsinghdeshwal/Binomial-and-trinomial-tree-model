{
 "cells": [
  {
   "cell_type": "code",
   "execution_count": 6,
   "id": "737bde59-4356-4bba-997d-c28a1c808ddb",
   "metadata": {},
   "outputs": [
    {
     "name": "stdout",
     "output_type": "stream",
     "text": [
      "Current stock price of SPY (S0): 538.41\n",
      "Current Risk-Free Rate (3-month Treasury bill): 0.0516\n",
      "Annualized Drift (alpha): 0.181815\n",
      "Annualized Volatility (sigma): 0.115399\n",
      "Binomial Model Call Option Price: 0.81\n"
     ]
    }
   ],
   "source": [
    "import numpy as np\n",
    "import yfinance as yf\n",
    "\n",
    "# Fetch current stock price of SPY\n",
    "spy = yf.Ticker('SPY')\n",
    "data = spy.history(period='1d')\n",
    "S0 = data['Close'].iloc[-1]\n",
    "print(f\"Current stock price of SPY (S0): {S0:.2f}\")\n",
    "\n",
    "# Fetch risk-free rate (3-month Treasury bill rate)\n",
    "risk_free_rate = yf.Ticker('^IRX')\n",
    "risk_free_rate_data = risk_free_rate.history(period='1d')\n",
    "current_rf_rate = risk_free_rate_data['Close'].iloc[-1] / 100\n",
    "print(f\"Current Risk-Free Rate (3-month Treasury bill): {current_rf_rate:.4f}\")\n",
    "\n",
    "# Historical data for SPY to calculate drift and volatility\n",
    "hist = spy.history(period='1y')\n",
    "hist['log_returns'] = np.log(hist['Close'] / hist['Close'].shift(1))\n",
    "\n",
    "alpha = hist['log_returns'].mean() * 252\n",
    "sigma = hist['log_returns'].std() * np.sqrt(252)\n",
    "print(f\"Annualized Drift (alpha): {alpha:.6f}\")\n",
    "print(f\"Annualized Volatility (sigma): {sigma:.6f}\")\n",
    "\n",
    "def binomial_tree_option_pricing(S0, K, T, r, sigma, N, option_type='call'):\n",
    "    dt = T / N\n",
    "    u = np.exp(sigma * np.sqrt(dt))\n",
    "    d = 1 / u\n",
    "    p = (np.exp(r * dt) - d) / (u - d)\n",
    "\n",
    "    # Initialize asset prices at maturity\n",
    "    ST = np.zeros(N + 1)\n",
    "    ST[0] = S0 * (d ** N)\n",
    "    for j in range(1, N + 1):\n",
    "        ST[j] = ST[j - 1] * (u / d)\n",
    "\n",
    "    # Initialize option values at maturity\n",
    "    option_values = np.maximum(0, (ST - K) if option_type == 'call' else (K - ST))\n",
    "\n",
    "    # Step back through the tree\n",
    "    for i in range(N - 1, -1, -1):\n",
    "        for j in range(i + 1):\n",
    "            option_values[j] = (p * option_values[j + 1] + (1 - p) * option_values[j]) * np.exp(-r * dt)\n",
    "\n",
    "    return option_values[0]\n",
    "\n",
    "# Example usage with updated parameters\n",
    "K = 550\n",
    "T = 7 / 252\n",
    "N = 50\n",
    "\n",
    "option_price_binomial = binomial_tree_option_pricing(S0, K, T, current_rf_rate, sigma, N, option_type='call')\n",
    "print(f\"Binomial Model Call Option Price: {option_price_binomial:.2f}\")\n"
   ]
  },
  {
   "cell_type": "code",
   "execution_count": 7,
   "id": "248bfb46-31c7-4dbf-bdda-0c285adc3789",
   "metadata": {},
   "outputs": [
    {
     "name": "stdout",
     "output_type": "stream",
     "text": [
      "Trinomial Model Call Option Price: 104.56\n"
     ]
    }
   ],
   "source": [
    "def trinomial_tree_option_pricing(S0, K, T, r, sigma, N, option_type='call'):\n",
    "    dt = T / N\n",
    "    u = np.exp(sigma * np.sqrt(2 * dt))\n",
    "    d = 1 / u\n",
    "    pu = ((np.exp(r * dt / 2) - np.exp(-sigma * np.sqrt(dt / 2))) / \n",
    "          (np.exp(sigma * np.sqrt(dt / 2)) - np.exp(-sigma * np.sqrt(dt / 2)))) ** 2\n",
    "    pd = ((np.exp(sigma * np.sqrt(dt / 2)) - np.exp(r * dt / 2)) / \n",
    "          (np.exp(sigma * np.sqrt(dt / 2)) - np.exp(-sigma * np.sqrt(dt / 2)))) ** 2\n",
    "    pm = 1 - pu - pd\n",
    "\n",
    "    # Initialize asset prices at maturity\n",
    "    ST = np.zeros(2 * N + 1)\n",
    "    ST[0] = S0 * (d ** N)\n",
    "    for j in range(1, 2 * N + 1):\n",
    "        ST[j] = ST[j - 1] * (u / d)\n",
    "\n",
    "    # Initialize option values at maturity\n",
    "    option_values = np.maximum(0, (ST - K) if option_type == 'call' else (K - ST))\n",
    "\n",
    "    # Step back through the tree\n",
    "    for i in range(N - 1, -1, -1):\n",
    "        for j in range(2 * i + 1):\n",
    "            option_values[j] = (pu * option_values[j + 2] + pm * option_values[j + 1] + pd * option_values[j]) * np.exp(-r * dt)\n",
    "\n",
    "    return option_values[0]\n",
    "\n",
    "# Example usage with updated parameters\n",
    "option_price_trinomial = trinomial_tree_option_pricing(S0, K, T, current_rf_rate, sigma, N, option_type='call')\n",
    "print(f\"Trinomial Model Call Option Price: {option_price_trinomial:.2f}\")\n"
   ]
  },
  {
   "cell_type": "code",
   "execution_count": null,
   "id": "d51f5a6f-44af-4d3d-8a6d-b22ddd3ebf68",
   "metadata": {},
   "outputs": [],
   "source": []
  },
  {
   "cell_type": "code",
   "execution_count": null,
   "id": "1ba75e51-bf47-49c0-b04e-a19f535e0ef7",
   "metadata": {},
   "outputs": [],
   "source": []
  }
 ],
 "metadata": {
  "kernelspec": {
   "display_name": "Python 3 (ipykernel)",
   "language": "python",
   "name": "python3"
  },
  "language_info": {
   "codemirror_mode": {
    "name": "ipython",
    "version": 3
   },
   "file_extension": ".py",
   "mimetype": "text/x-python",
   "name": "python",
   "nbconvert_exporter": "python",
   "pygments_lexer": "ipython3",
   "version": "3.11.1"
  }
 },
 "nbformat": 4,
 "nbformat_minor": 5
}
